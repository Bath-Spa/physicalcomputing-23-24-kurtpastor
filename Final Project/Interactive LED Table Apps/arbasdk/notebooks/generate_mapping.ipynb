{
 "cells": [
  {
   "cell_type": "markdown",
   "metadata": {},
   "source": [
    "# Helper to generate configuration files\n",
    "This script helps to generate a coil addressing for any size (height, width). It uses the reference configuration (`config150.json`) to dump a new one corresponding to the requested size and origin (top left, top right, bottom left, bottom right). First adjust the tweakable parameters corresponding to the desired size and then run the rest of the script, the JSON file is saved under `../config`.\n",
    "## Tweakable parameters"
   ]
  },
  {
   "cell_type": "code",
   "execution_count": 10,
   "metadata": {},
   "outputs": [],
   "source": [
    "height, width = 12, 12  # Size of the generated configuration"
   ]
  },
  {
   "cell_type": "code",
   "execution_count": 11,
   "metadata": {},
   "outputs": [],
   "source": [
    "origin = \"top\", \"left\" # Where is the 0, 0 coordinate? top/bottom, left/right"
   ]
  },
  {
   "cell_type": "markdown",
   "metadata": {},
   "source": [
    "## Configuration file generation"
   ]
  },
  {
   "cell_type": "code",
   "execution_count": 12,
   "metadata": {},
   "outputs": [],
   "source": [
    "import json"
   ]
  },
  {
   "cell_type": "code",
   "execution_count": 13,
   "metadata": {},
   "outputs": [],
   "source": [
    "mapping = [[0]*width for h in range(height)]"
   ]
  },
  {
   "cell_type": "code",
   "execution_count": 14,
   "metadata": {},
   "outputs": [],
   "source": [
    "address = 0\n",
    "for w in range(width):\n",
    "    coil = range(height) if w%2==0 and origin[0]==\"top\" or w%2==1 and origin[0]==\"bottom\" else range(height-1, -1, -1)\n",
    "    for h in coil:\n",
    "        mapping[h][w] = address\n",
    "        address += 1\n",
    "    if origin[1]==\"right\": raise NotImplementedError(\"left/right coil to be implemented\")"
   ]
  },
  {
   "cell_type": "code",
   "execution_count": 15,
   "metadata": {},
   "outputs": [
    {
     "data": {
      "text/plain": [
       "[[0, 23, 24, 47, 48, 71, 72, 95, 96, 119, 120, 143],\n",
       " [1, 22, 25, 46, 49, 70, 73, 94, 97, 118, 121, 142],\n",
       " [2, 21, 26, 45, 50, 69, 74, 93, 98, 117, 122, 141],\n",
       " [3, 20, 27, 44, 51, 68, 75, 92, 99, 116, 123, 140],\n",
       " [4, 19, 28, 43, 52, 67, 76, 91, 100, 115, 124, 139],\n",
       " [5, 18, 29, 42, 53, 66, 77, 90, 101, 114, 125, 138],\n",
       " [6, 17, 30, 41, 54, 65, 78, 89, 102, 113, 126, 137],\n",
       " [7, 16, 31, 40, 55, 64, 79, 88, 103, 112, 127, 136],\n",
       " [8, 15, 32, 39, 56, 63, 80, 87, 104, 111, 128, 135],\n",
       " [9, 14, 33, 38, 57, 62, 81, 86, 105, 110, 129, 134],\n",
       " [10, 13, 34, 37, 58, 61, 82, 85, 106, 109, 130, 133],\n",
       " [11, 12, 35, 36, 59, 60, 83, 84, 107, 108, 131, 132]]"
      ]
     },
     "execution_count": 15,
     "metadata": {},
     "output_type": "execute_result"
    }
   ],
   "source": [
    "mapping"
   ]
  },
  {
   "cell_type": "code",
   "execution_count": 16,
   "metadata": {},
   "outputs": [],
   "source": [
    "with open(\"../arbalet/config/config150.json\") as f:\n",
    "    reference = json.load(f)"
   ]
  },
  {
   "cell_type": "code",
   "execution_count": 17,
   "metadata": {},
   "outputs": [],
   "source": [
    "reference[\"mapping\"] = mapping"
   ]
  },
  {
   "cell_type": "code",
   "execution_count": 18,
   "metadata": {},
   "outputs": [],
   "source": [
    "with open(\"../arbalet/config/config{}.json\".format(height*width), 'w') as f:\n",
    "    json.dump(reference, f, indent=4)"
   ]
  },
  {
   "cell_type": "markdown",
   "metadata": {},
   "source": [
    "## And then?\n",
    "The configuration file is saved under the `config` directory of your local git repo. You must install this new configuration file before being able to run apps with this configuration. Just save it under the proper location (example: `/usr/local/lib/python2.7/dist-packages/arbalet-0.0.1-py2.7.egg/config/config150.json`) or ask `setup.py` to do this for you."
   ]
  }
 ],
 "metadata": {
  "kernelspec": {
   "display_name": "Python 3 (ipykernel)",
   "language": "python",
   "name": "python3"
  },
  "language_info": {
   "codemirror_mode": {
    "name": "ipython",
    "version": 3
   },
   "file_extension": ".py",
   "mimetype": "text/x-python",
   "name": "python",
   "nbconvert_exporter": "python",
   "pygments_lexer": "ipython3",
   "version": "3.11.5"
  }
 },
 "nbformat": 4,
 "nbformat_minor": 1
}
